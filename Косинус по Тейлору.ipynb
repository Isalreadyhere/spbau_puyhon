{
 "cells": [
  {
   "cell_type": "code",
   "execution_count": null,
   "metadata": {},
   "outputs": [],
   "source": [
    "import math\n",
    "\n",
    "iterations = 7 #при большем количестве итераций собственный косинус совпадает с библиотечным\n",
    "\n",
    "def new_cos(x):\n",
    "    \"\"\"Вычисление косинуса по ряду Тейлора\"\"\"\n",
    "    sum = 1\n",
    "    x_pow = 1\n",
    "    factorial = 1\n",
    "    for i in range (1, iterations):\n",
    "        x_pow *= x*x\n",
    "        factorial *= (-1) / (2*i) / (2*i - 1)\n",
    "        sum += x_pow * factorial\n",
    "        \n",
    "    return sum\n",
    "\n",
    "print(math.cos(0.5), help(math.cos))\n",
    "print(new_cos(0.5), help(new_cos))    \n",
    "    "
   ]
  },
  {
   "cell_type": "code",
   "execution_count": null,
   "metadata": {},
   "outputs": [],
   "source": []
  }
 ],
 "metadata": {
  "kernelspec": {
   "display_name": "Python 3",
   "language": "python",
   "name": "python3"
  },
  "language_info": {
   "codemirror_mode": {
    "name": "ipython",
    "version": 3
   },
   "file_extension": ".py",
   "mimetype": "text/x-python",
   "name": "python",
   "nbconvert_exporter": "python",
   "pygments_lexer": "ipython3",
   "version": "3.8.5"
  }
 },
 "nbformat": 4,
 "nbformat_minor": 4
}
