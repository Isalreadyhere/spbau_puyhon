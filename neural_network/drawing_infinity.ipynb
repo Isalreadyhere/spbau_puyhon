{
 "cells": [
  {
   "cell_type": "markdown",
   "metadata": {
    "id": "KFRVyDN0LLv9"
   },
   "source": [
    "# Попадает ли точка в фигуру?\n",
    "\n",
    "Потребуются `pip install tensorflow keras`"
   ]
  },
  {
   "cell_type": "code",
   "execution_count": null,
   "metadata": {
    "id": "FWbU7QflLLwF"
   },
   "outputs": [],
   "source": [
    "import os\n",
    "import numpy as np\n",
    "import math\n",
    "from tensorflow.keras import models, layers"
   ]
  },
  {
   "cell_type": "markdown",
   "metadata": {
    "id": "gqIQrTlRLLwG"
   },
   "source": [
    "`XY` — 1000000 случайных точек, `Z` — попадает точка в фигуру (1) или нет (0)"
   ]
  },
  {
   "cell_type": "code",
   "execution_count": null,
   "metadata": {
    "id": "IcNuU3vBLLwH"
   },
   "outputs": [],
   "source": [
    "  XY = np.random.random((1_000_000, 2)).astype(np.float32) * 4.0 - 2.0\n",
    "\n",
    "  Z = np.array([\n",
    "    1 if (x ** 2 + y ** 2)**2 <= -(x ** 2 - y ** 2) else 0\n",
    "    for [x, y] in XY\n",
    "  ], dtype=np.float32)"
   ]
  },
  {
   "cell_type": "code",
   "execution_count": null,
   "metadata": {
    "id": "kgHfCXeBLLwI"
   },
   "outputs": [],
   "source": [
    "model = models.Sequential([\n",
    "    layers.InputLayer(input_shape=(2,)),\n",
    "    layers.Dense(100, activation='sigmoid', use_bias=True),\n",
    "    layers.Dense(20, activation='sigmoid', use_bias=True),\n",
    "    layers.Dense(1, activation='sigmoid', use_bias=False)\n",
    "])\n",
    "\n",
    "model.compile(\n",
    "    loss='mean_squared_error',\n",
    "    optimizer='adam',\n",
    "    metrics='accuracy'\n",
    ")"
   ]
  },
  {
   "cell_type": "code",
   "execution_count": null,
   "metadata": {
    "colab": {
     "base_uri": "https://localhost:8080/"
    },
    "id": "YmH4fp2HLLwJ",
    "outputId": "4a981780-29a5-4888-b805-479f727c0530"
   },
   "outputs": [],
   "source": [
    "if os.path.isfile(\"smart_duckling_colab.h5\"):\n",
    "    print(\"Loading existing synapses...\")\n",
    "    model.load_weights(\"smart_duckling_colab.h5\")\n",
    "else:\n",
    "    print(\"Training the duckling...\")\n",
    "    model.fit(\n",
    "        XY, Z,\n",
    "        epochs=150,       #уменьшим их количество до 150 для ускорения обучения\n",
    "        batch_size=1000,\n",
    "        use_multiprocessing=True,\n",
    "        verbose=False\n",
    "    )\n",
    "    model.save(\"smart_duckling_colab.h5\")\n",
    "\n",
    "print(\"Done,\", model.evaluate(XY, Z))"
   ]
  },
  {
   "cell_type": "markdown",
   "metadata": {
    "id": "Nyhhm7oELLwL"
   },
   "source": [
    "Ну и теперь посмотрим, как оно научилось ограничивать фигуру, но уже на 2500 точках..."
   ]
  },
  {
   "cell_type": "code",
   "execution_count": null,
   "metadata": {
    "colab": {
     "base_uri": "https://localhost:8080/",
     "height": 265
    },
    "id": "AAX6s7DmLLwL",
    "outputId": "ee9b550e-95dd-411f-f33a-675d65e90a86"
   },
   "outputs": [],
   "source": [
    "%matplotlib inline\n",
    "\n",
    "import matplotlib.pyplot as plt\n",
    "\n",
    "plt.axis('equal')\n",
    "\n",
    "c = np.linspace(-2,2,50)\n",
    "\n",
    "# https://stackoverflow.com/a/11144716/539470 =)\n",
    "XY = np.transpose([np.tile(c, len(c)), np.repeat(c, len(c))])\n",
    "\n",
    "Z = model.predict(XY)\n",
    "\n",
    "for (x, y), z in zip(XY, Z):\n",
    "    plt.scatter(x, y, c='red' if z[0] >= 0.5 else 'green', marker='.')\n",
    "\n",
    "plt.show()\n"
   ]
  },
  {
   "cell_type": "code",
   "execution_count": null,
   "metadata": {
    "colab": {
     "base_uri": "https://localhost:8080/",
     "height": 265
    },
    "id": "3wLtlZEoLLwM",
    "outputId": "dc631e13-8803-44a4-c16d-e76d936055b7"
   },
   "outputs": [],
   "source": [
    "def saturate(v):\n",
    "    return min(1, max(0, v))\n",
    "\n",
    "plt.axis('equal')\n",
    "\n",
    "for (x, y), z in zip(XY, Z):\n",
    "    plt.scatter(x, y, color=[(1, 1-saturate(z[0]), 1-saturate(z[0]))], marker='.')\n",
    "\n",
    "plt.show()"
   ]
  }
 ],
 "metadata": {
  "anaconda-cloud": {},
  "colab": {
   "collapsed_sections": [],
   "name": "10.c.PythonNN_More_Keras.ipynb",
   "provenance": []
  },
  "kernelspec": {
   "display_name": "Python 3",
   "language": "python",
   "name": "python3"
  },
  "language_info": {
   "codemirror_mode": {
    "name": "ipython",
    "version": 3
   },
   "file_extension": ".py",
   "mimetype": "text/x-python",
   "name": "python",
   "nbconvert_exporter": "python",
   "pygments_lexer": "ipython3",
   "version": "3.8.5"
  }
 },
 "nbformat": 4,
 "nbformat_minor": 4
}
