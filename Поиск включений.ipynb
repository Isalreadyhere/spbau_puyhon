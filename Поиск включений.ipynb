{
 "cells": [
  {
   "cell_type": "code",
   "execution_count": null,
   "metadata": {},
   "outputs": [],
   "source": [
    "t = 'Иван, Иван и Иван. Жили-были Иван Иванов, Ваня Иванидзе и Вано Иващенко. Однажды они собрались и поняли, почему все являются Иванами, но мы вам этого не расскажем.'\n",
    "p = 'Иван'\n",
    "\n",
    "def newSearchInclusions(text, pattern):\n",
    "    summ = 0\n",
    "    summ_req = 0\n",
    "    count = 0\n",
    "    \n",
    "    for i in range (0, len(pattern)-1):\n",
    "        summ += ord(text[i])\n",
    "        summ_req += ord(pattern[i])\n",
    "    \n",
    "    if summ == summ_req:\n",
    "        if text.startswith(pattern):\n",
    "            count+=1\n",
    "        \n",
    "    for i in range (len(pattern), len(text)-1):\n",
    "        summ -= ord(text[i - len(pattern)])\n",
    "        summ += ord(text[i])\n",
    "        \n",
    "        if summ == summ_req:\n",
    "            if text[i-len(pattern)+1:].startswith(pattern):\n",
    "                count+=1\n",
    "            \n",
    "    return count\n",
    "\n",
    "print(newSearchInclusions(t,p))\n",
    "        "
   ]
  },
  {
   "cell_type": "code",
   "execution_count": null,
   "metadata": {},
   "outputs": [],
   "source": []
  }
 ],
 "metadata": {
  "kernelspec": {
   "display_name": "Python 3",
   "language": "python",
   "name": "python3"
  },
  "language_info": {
   "codemirror_mode": {
    "name": "ipython",
    "version": 3
   },
   "file_extension": ".py",
   "mimetype": "text/x-python",
   "name": "python",
   "nbconvert_exporter": "python",
   "pygments_lexer": "ipython3",
   "version": "3.8.5"
  }
 },
 "nbformat": 4,
 "nbformat_minor": 4
}
