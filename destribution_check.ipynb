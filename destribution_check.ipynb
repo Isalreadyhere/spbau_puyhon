{
 "cells": [
  {
   "cell_type": "code",
   "execution_count": null,
   "metadata": {},
   "outputs": [],
   "source": [
    "from scipy import stats\n",
    "import pandas\n",
    "#Данные - сопротивление сорока одинаковых резисторов, измеренное в омах, выбранных случайно. \n",
    "#Официально хранятся тут https://docs.google.com/spreadsheets/d/1ble4Bzqi4LOcDA9n-2mQRS_oH71UA9i_AjNiXSZ54SA/edit?usp=sharing\n",
    "#Проверим нормальность критерием Колмогорова-Смирнова:\n",
    "data = [388.2 , 387.5, 388, 387.1, 388.8, 387.5, 387.1, 388.3, 388.1, 388.5, 387.7, 388.9, 388.2, 388.3, 387.7, 388.7, 389, 388, 388.5, 388.2, 387, 388, 388.4, 388.4, 387.1, 388.3, 388.4, 388.5, 387, 388.7, 387.1, 388.8, 388.9, 387.8, 387.9, 387.6, 388.9, 387.9, 388.2, 389.4]\n",
    "dframe = pandas.DataFrame(data={\n",
    "    'resistance': data\n",
    "})\n",
    "#print(df.resistance.describe())\n",
    "\n",
    "print(stats.kstest(dframe['resistance'], 'norm', (dframe.mean(), dframe.std()), N=len(dframe)))"
   ]
  },
  {
   "cell_type": "code",
   "execution_count": null,
   "metadata": {},
   "outputs": [],
   "source": [
    "#Cудя по всему, распределение довольно случайное - к-с-статистика невысокая, и р-значение на приличном уровне."
   ]
  }
 ],
 "metadata": {
  "kernelspec": {
   "display_name": "Python 3",
   "language": "python",
   "name": "python3"
  },
  "language_info": {
   "codemirror_mode": {
    "name": "ipython",
    "version": 3
   },
   "file_extension": ".py",
   "mimetype": "text/x-python",
   "name": "python",
   "nbconvert_exporter": "python",
   "pygments_lexer": "ipython3",
   "version": "3.8.5"
  }
 },
 "nbformat": 4,
 "nbformat_minor": 4
}
