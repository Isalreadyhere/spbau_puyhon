{
 "cells": [
  {
   "cell_type": "code",
   "execution_count": null,
   "metadata": {},
   "outputs": [],
   "source": [
    "def repeat(n):\n",
    "    def multiplier(mainFunc):\n",
    "        def Fake(x):\n",
    "            result = x\n",
    "            for i in range(0,n):\n",
    "                #print(result) #неизвестно зачем оставленные следы отладки\n",
    "                #print(i)\n",
    "                result = mainFunc(result)\n",
    "            #print('dfsdsdf')\n",
    "            \n",
    "            return result\n",
    "        return Fake\n",
    "    return multiplier\n",
    "\n",
    "        \n",
    "       \n",
    "   \n",
    "\n",
    "@repeat(2)\n",
    "def plus_1(x):\n",
    "    return x + 1\n",
    "\n",
    "@repeat(0)\n",
    "def mul_2(x):\n",
    "    return x * 2\n",
    "\n",
    "print(plus_1(3))  # должно выдать 5\n",
    "print(mul_2(4))  # должно выдать 4\n",
    "# это и выдает"
   ]
  },
  {
   "cell_type": "code",
   "execution_count": null,
   "metadata": {},
   "outputs": [],
   "source": []
  },
  {
   "cell_type": "code",
   "execution_count": null,
   "metadata": {},
   "outputs": [],
   "source": []
  }
 ],
 "metadata": {
  "kernelspec": {
   "display_name": "Python 3",
   "language": "python",
   "name": "python3"
  },
  "language_info": {
   "codemirror_mode": {
    "name": "ipython",
    "version": 3
   },
   "file_extension": ".py",
   "mimetype": "text/x-python",
   "name": "python",
   "nbconvert_exporter": "python",
   "pygments_lexer": "ipython3",
   "version": "3.8.5"
  }
 },
 "nbformat": 4,
 "nbformat_minor": 4
}
