{
 "cells": [
  {
   "cell_type": "code",
   "execution_count": null,
   "metadata": {},
   "outputs": [],
   "source": [
    "import random\n",
    "\n",
    "\n",
    "def prime(a):\n",
    "    '''самый простой способ проверки, просто перебор'''\n",
    "    t = 2\n",
    "    b = 0\n",
    "    while t < a ** 0.5:\n",
    "        if a % t == 0:\n",
    "            b = 1\n",
    "        t+=1\n",
    "    if b:\n",
    "        g = a, 'не простое'\n",
    "    else:\n",
    "        g = a, 'простое'\n",
    "    return(g)\n",
    "\n",
    "for y in range (1, 10):\n",
    "    f = random.randint(1, 100) \n",
    "    print(prime(f))\n",
    "print(prime(31769))\n"
   ]
  },
  {
   "cell_type": "code",
   "execution_count": null,
   "metadata": {},
   "outputs": [],
   "source": [
    "firstprimes = [2, 3, 5, 7, 11, 13, 17, 19, 23, 29, 31, 37, 41, 43]\n",
    "\n",
    "def prime2 (a):\n",
    "    '''сначала проверяем самые распространенные простые числа, потом тестом Ферма все более редкие\n",
    "    Заодно это сильно уменьшит вероятность выпадения числа Кармайкла, позволив не проводить тест  Ферма много раз и при этом сохранив достаточную точность'''\n",
    "    g = a\n",
    "    g = str(g)\n",
    "    b = 1\n",
    "    for t in firstprimes: #быстрая проверка, которая отсечет почти все простые числа, чтобы не загружат6 каждый раз возведением в степен6. Плюс отсечет множество относительно небольших чисел Кармайкла\n",
    "        if (a%t == 0) and (a != t):\n",
    "            b = 0\n",
    "    if b:\n",
    "        if pow(2, a-1, a) != 1:\n",
    "            b = 1\n",
    "            \n",
    "       \n",
    "    if b != 1:\n",
    "        \n",
    "        g += ' - составное число '\n",
    "    else:\n",
    "        g += ' - простое число '\n",
    "    return( g)\n",
    "\n",
    "\n",
    "for y in range (1, 1000):\n",
    "    f = random.randint(1, 100000) \n",
    "    print(prime2(f))"
   ]
  },
  {
   "cell_type": "code",
   "execution_count": null,
   "metadata": {},
   "outputs": [],
   "source": []
  },
  {
   "cell_type": "code",
   "execution_count": null,
   "metadata": {},
   "outputs": [],
   "source": []
  }
 ],
 "metadata": {
  "kernelspec": {
   "display_name": "Python 3",
   "language": "python",
   "name": "python3"
  },
  "language_info": {
   "codemirror_mode": {
    "name": "ipython",
    "version": 3
   },
   "file_extension": ".py",
   "mimetype": "text/x-python",
   "name": "python",
   "nbconvert_exporter": "python",
   "pygments_lexer": "ipython3",
   "version": "3.8.5"
  }
 },
 "nbformat": 4,
 "nbformat_minor": 4
}
